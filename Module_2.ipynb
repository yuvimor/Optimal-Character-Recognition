{
  "nbformat": 4,
  "nbformat_minor": 0,
  "metadata": {
    "colab": {
      "provenance": [],
      "gpuType": "T4"
    },
    "kernelspec": {
      "name": "python3",
      "display_name": "Python 3"
    },
    "language_info": {
      "name": "python"
    },
    "accelerator": "GPU"
  },
  "cells": [
    {
      "cell_type": "markdown",
      "source": [
        "# OCR Using Quantum Neural Network\n",
        "\n",
        "---\n",
        "\n"
      ],
      "metadata": {
        "id": "wFovX1kRH5s9"
      }
    },
    {
      "cell_type": "markdown",
      "source": [
        "Dataset Link: https://www.kaggle.com/datasets/preatcher/standard-ocr-dataset/data"
      ],
      "metadata": {
        "id": "AfnjFQ1_H-bn"
      }
    },
    {
      "cell_type": "code",
      "execution_count": 1,
      "metadata": {
        "colab": {
          "base_uri": "https://localhost:8080/",
          "height": 73
        },
        "id": "lT96GW9P3xGs",
        "outputId": "ef97cc89-dfd3-4de2-afe3-b26d66a7b0e0"
      },
      "outputs": [
        {
          "output_type": "display_data",
          "data": {
            "text/plain": [
              "<IPython.core.display.HTML object>"
            ],
            "text/html": [
              "\n",
              "     <input type=\"file\" id=\"files-7fdded13-91b6-417f-b486-e772d0ab39ab\" name=\"files[]\" multiple disabled\n",
              "        style=\"border:none\" />\n",
              "     <output id=\"result-7fdded13-91b6-417f-b486-e772d0ab39ab\">\n",
              "      Upload widget is only available when the cell has been executed in the\n",
              "      current browser session. Please rerun this cell to enable.\n",
              "      </output>\n",
              "      <script>// Copyright 2017 Google LLC\n",
              "//\n",
              "// Licensed under the Apache License, Version 2.0 (the \"License\");\n",
              "// you may not use this file except in compliance with the License.\n",
              "// You may obtain a copy of the License at\n",
              "//\n",
              "//      http://www.apache.org/licenses/LICENSE-2.0\n",
              "//\n",
              "// Unless required by applicable law or agreed to in writing, software\n",
              "// distributed under the License is distributed on an \"AS IS\" BASIS,\n",
              "// WITHOUT WARRANTIES OR CONDITIONS OF ANY KIND, either express or implied.\n",
              "// See the License for the specific language governing permissions and\n",
              "// limitations under the License.\n",
              "\n",
              "/**\n",
              " * @fileoverview Helpers for google.colab Python module.\n",
              " */\n",
              "(function(scope) {\n",
              "function span(text, styleAttributes = {}) {\n",
              "  const element = document.createElement('span');\n",
              "  element.textContent = text;\n",
              "  for (const key of Object.keys(styleAttributes)) {\n",
              "    element.style[key] = styleAttributes[key];\n",
              "  }\n",
              "  return element;\n",
              "}\n",
              "\n",
              "// Max number of bytes which will be uploaded at a time.\n",
              "const MAX_PAYLOAD_SIZE = 100 * 1024;\n",
              "\n",
              "function _uploadFiles(inputId, outputId) {\n",
              "  const steps = uploadFilesStep(inputId, outputId);\n",
              "  const outputElement = document.getElementById(outputId);\n",
              "  // Cache steps on the outputElement to make it available for the next call\n",
              "  // to uploadFilesContinue from Python.\n",
              "  outputElement.steps = steps;\n",
              "\n",
              "  return _uploadFilesContinue(outputId);\n",
              "}\n",
              "\n",
              "// This is roughly an async generator (not supported in the browser yet),\n",
              "// where there are multiple asynchronous steps and the Python side is going\n",
              "// to poll for completion of each step.\n",
              "// This uses a Promise to block the python side on completion of each step,\n",
              "// then passes the result of the previous step as the input to the next step.\n",
              "function _uploadFilesContinue(outputId) {\n",
              "  const outputElement = document.getElementById(outputId);\n",
              "  const steps = outputElement.steps;\n",
              "\n",
              "  const next = steps.next(outputElement.lastPromiseValue);\n",
              "  return Promise.resolve(next.value.promise).then((value) => {\n",
              "    // Cache the last promise value to make it available to the next\n",
              "    // step of the generator.\n",
              "    outputElement.lastPromiseValue = value;\n",
              "    return next.value.response;\n",
              "  });\n",
              "}\n",
              "\n",
              "/**\n",
              " * Generator function which is called between each async step of the upload\n",
              " * process.\n",
              " * @param {string} inputId Element ID of the input file picker element.\n",
              " * @param {string} outputId Element ID of the output display.\n",
              " * @return {!Iterable<!Object>} Iterable of next steps.\n",
              " */\n",
              "function* uploadFilesStep(inputId, outputId) {\n",
              "  const inputElement = document.getElementById(inputId);\n",
              "  inputElement.disabled = false;\n",
              "\n",
              "  const outputElement = document.getElementById(outputId);\n",
              "  outputElement.innerHTML = '';\n",
              "\n",
              "  const pickedPromise = new Promise((resolve) => {\n",
              "    inputElement.addEventListener('change', (e) => {\n",
              "      resolve(e.target.files);\n",
              "    });\n",
              "  });\n",
              "\n",
              "  const cancel = document.createElement('button');\n",
              "  inputElement.parentElement.appendChild(cancel);\n",
              "  cancel.textContent = 'Cancel upload';\n",
              "  const cancelPromise = new Promise((resolve) => {\n",
              "    cancel.onclick = () => {\n",
              "      resolve(null);\n",
              "    };\n",
              "  });\n",
              "\n",
              "  // Wait for the user to pick the files.\n",
              "  const files = yield {\n",
              "    promise: Promise.race([pickedPromise, cancelPromise]),\n",
              "    response: {\n",
              "      action: 'starting',\n",
              "    }\n",
              "  };\n",
              "\n",
              "  cancel.remove();\n",
              "\n",
              "  // Disable the input element since further picks are not allowed.\n",
              "  inputElement.disabled = true;\n",
              "\n",
              "  if (!files) {\n",
              "    return {\n",
              "      response: {\n",
              "        action: 'complete',\n",
              "      }\n",
              "    };\n",
              "  }\n",
              "\n",
              "  for (const file of files) {\n",
              "    const li = document.createElement('li');\n",
              "    li.append(span(file.name, {fontWeight: 'bold'}));\n",
              "    li.append(span(\n",
              "        `(${file.type || 'n/a'}) - ${file.size} bytes, ` +\n",
              "        `last modified: ${\n",
              "            file.lastModifiedDate ? file.lastModifiedDate.toLocaleDateString() :\n",
              "                                    'n/a'} - `));\n",
              "    const percent = span('0% done');\n",
              "    li.appendChild(percent);\n",
              "\n",
              "    outputElement.appendChild(li);\n",
              "\n",
              "    const fileDataPromise = new Promise((resolve) => {\n",
              "      const reader = new FileReader();\n",
              "      reader.onload = (e) => {\n",
              "        resolve(e.target.result);\n",
              "      };\n",
              "      reader.readAsArrayBuffer(file);\n",
              "    });\n",
              "    // Wait for the data to be ready.\n",
              "    let fileData = yield {\n",
              "      promise: fileDataPromise,\n",
              "      response: {\n",
              "        action: 'continue',\n",
              "      }\n",
              "    };\n",
              "\n",
              "    // Use a chunked sending to avoid message size limits. See b/62115660.\n",
              "    let position = 0;\n",
              "    do {\n",
              "      const length = Math.min(fileData.byteLength - position, MAX_PAYLOAD_SIZE);\n",
              "      const chunk = new Uint8Array(fileData, position, length);\n",
              "      position += length;\n",
              "\n",
              "      const base64 = btoa(String.fromCharCode.apply(null, chunk));\n",
              "      yield {\n",
              "        response: {\n",
              "          action: 'append',\n",
              "          file: file.name,\n",
              "          data: base64,\n",
              "        },\n",
              "      };\n",
              "\n",
              "      let percentDone = fileData.byteLength === 0 ?\n",
              "          100 :\n",
              "          Math.round((position / fileData.byteLength) * 100);\n",
              "      percent.textContent = `${percentDone}% done`;\n",
              "\n",
              "    } while (position < fileData.byteLength);\n",
              "  }\n",
              "\n",
              "  // All done.\n",
              "  yield {\n",
              "    response: {\n",
              "      action: 'complete',\n",
              "    }\n",
              "  };\n",
              "}\n",
              "\n",
              "scope.google = scope.google || {};\n",
              "scope.google.colab = scope.google.colab || {};\n",
              "scope.google.colab._files = {\n",
              "  _uploadFiles,\n",
              "  _uploadFilesContinue,\n",
              "};\n",
              "})(self);\n",
              "</script> "
            ]
          },
          "metadata": {}
        },
        {
          "output_type": "stream",
          "name": "stdout",
          "text": [
            "Saving kaggle.json to kaggle.json\n"
          ]
        }
      ],
      "source": [
        "from google.colab import files\n",
        "\n",
        "# Uploading the kaggle.json file\n",
        "uploaded = files.upload()"
      ]
    },
    {
      "cell_type": "code",
      "source": [
        "# Moving the uploaded kaggle.json file to the appropriate directory\n",
        "!mkdir -p ~/.kaggle\n",
        "!cp kaggle.json ~/.kaggle/\n",
        "!chmod 600 ~/.kaggle/kaggle.json"
      ],
      "metadata": {
        "id": "jULOVTA_4m9b"
      },
      "execution_count": 2,
      "outputs": []
    },
    {
      "cell_type": "code",
      "source": [
        "# Downloading the dataset from kaggle\n",
        "!kaggle datasets download -d preatcher/standard-ocr-dataset"
      ],
      "metadata": {
        "colab": {
          "base_uri": "https://localhost:8080/"
        },
        "id": "uZygfyRh4pMz",
        "outputId": "8026ea00-1196-462d-994f-dccd0e94a324"
      },
      "execution_count": 3,
      "outputs": [
        {
          "output_type": "stream",
          "name": "stdout",
          "text": [
            "Downloading standard-ocr-dataset.zip to /content\n",
            " 97% 45.0M/46.2M [00:03<00:00, 18.3MB/s]\n",
            "100% 46.2M/46.2M [00:03<00:00, 12.6MB/s]\n"
          ]
        }
      ]
    },
    {
      "cell_type": "code",
      "source": [
        "# Unzipping the downloaded dataset\n",
        "!unzip -q standard-ocr-dataset.zip"
      ],
      "metadata": {
        "id": "DApCevvw4yCx"
      },
      "execution_count": 4,
      "outputs": []
    },
    {
      "cell_type": "code",
      "execution_count": 5,
      "metadata": {
        "id": "wGDwqmFWzS69"
      },
      "outputs": [],
      "source": [
        "# Importing necessary libraries\n",
        "import numpy as np\n",
        "import pandas as pd\n",
        "import seaborn as sns\n",
        "import matplotlib.pyplot as plt"
      ]
    },
    {
      "cell_type": "code",
      "source": [
        "import os\n",
        "import cv2\n",
        "\n",
        "# Function to load images from a given folder\n",
        "def load_images_from_folder(folder_path):\n",
        "    labels = [str(i) for i in range(10)] + [chr(i) for i in range(ord('A'), ord('Z') + 1)]\n",
        "    images = []\n",
        "\n",
        "    for label in labels:\n",
        "        label_path = os.path.join(folder_path, label)\n",
        "        for filename in os.listdir(label_path):\n",
        "            img_path = os.path.join(label_path, filename)\n",
        "            img = cv2.imread(img_path, cv2.IMREAD_GRAYSCALE)\n",
        "            images.append((img, label))\n",
        "\n",
        "    return images"
      ],
      "metadata": {
        "id": "tUg_csUYJOB6"
      },
      "execution_count": 6,
      "outputs": []
    },
    {
      "cell_type": "code",
      "source": [
        "# Path to the main data folder\n",
        "data_path = \"/content/data\"\n",
        "\n",
        "# Loading training data\n",
        "training_data_path = os.path.join(data_path, \"training_data\")\n",
        "training_images = load_images_from_folder(training_data_path)\n",
        "\n",
        "# Loading testing data\n",
        "testing_data_path = os.path.join(data_path, \"testing_data\")\n",
        "testing_images = load_images_from_folder(testing_data_path)"
      ],
      "metadata": {
        "id": "CbvU1jo-L2_-"
      },
      "execution_count": 7,
      "outputs": []
    },
    {
      "cell_type": "code",
      "source": [
        "# Defining labels\n",
        "labels = [str(i) for i in range(10)] + [chr(i) for i in range(ord('A'), ord('Z') + 1)]\n",
        "\n",
        "# Checking the distribution of labels\n",
        "label_counts = {label: 0 for label in labels}\n",
        "for _, label in training_images:\n",
        "    label_counts[label] += 1\n",
        "\n",
        "plt.bar(label_counts.keys(), label_counts.values())\n",
        "plt.xlabel('Label')\n",
        "plt.ylabel('Count')\n",
        "plt.title('Distribution of Labels in Training Set')\n",
        "plt.show()"
      ],
      "metadata": {
        "colab": {
          "base_uri": "https://localhost:8080/",
          "height": 472
        },
        "id": "ieV3Sg94Mn0A",
        "outputId": "fe965f16-7955-4365-ff6a-1102b7c2d0ab"
      },
      "execution_count": 8,
      "outputs": [
        {
          "output_type": "display_data",
          "data": {
            "text/plain": [
              "<Figure size 640x480 with 1 Axes>"
            ],
            "image/png": "[encoded data removed]"
          },
          "metadata": {}
        }
      ]
    },
    {
      "cell_type": "markdown",
      "source": [
        "  All the labels have equal number of images."
      ],
      "metadata": {
        "id": "v0GNil8eM7MH"
      }
    },
    {
      "cell_type": "code",
      "source": [
        "# Visualizing a few sample images\n",
        "fig, axes = plt.subplots(2, 5, figsize=(12, 6))\n",
        "for i in range(2):\n",
        "    for j in range(5):\n",
        "        img, label = training_images[i * 5 + j]\n",
        "        axes[i, j].imshow(img, cmap='gray')\n",
        "        axes[i, j].set_title(label)\n",
        "        axes[i, j].axis('off')\n",
        "plt.suptitle('Sample Images from Training Set')\n",
        "plt.show()"
      ],
      "metadata": {
        "colab": {
          "base_uri": "https://localhost:8080/",
          "height": 554
        },
        "id": "mJmEKrC6M_iL",
        "outputId": "e58f5013-d5a1-4b0d-9de1-fdbcf374f6e5"
      },
      "execution_count": 9,
      "outputs": [
        {
          "output_type": "display_data",
          "data": {
            "text/plain": [
              "<Figure size 1200x600 with 10 Axes>"
            ],
            "image/png": "[encoded data removed]"
          },
          "metadata": {}
        }
      ]
    },
    {
      "cell_type": "code",
      "source": [
        "# Resizing images to a consistent size\n",
        "target_size = (64, 64)\n",
        "training_images = [(cv2.resize(img, target_size), label) for img, label in training_images]\n",
        "testing_images = [(cv2.resize(img, target_size), label) for img, label in testing_images]\n",
        "\n",
        "# Normalizing pixel values to the range [0, 1]\n",
        "training_images = [(img / 255.0, label) for img, label in training_images]\n",
        "testing_images = [(img / 255.0, label) for img, label in testing_images]"
      ],
      "metadata": {
        "id": "01Cj1EOzNPxE"
      },
      "execution_count": 10,
      "outputs": []
    },
    {
      "cell_type": "code",
      "source": [
        "# Separating images and labels for training set\n",
        "X_train, y_train = zip(*training_images)\n",
        "\n",
        "# Separating images and labels for testing set\n",
        "X_test, y_test = zip(*testing_images)\n",
        "\n",
        "# Displaying the size of the training and testing sets\n",
        "print(f\"Training Set Size: {len(X_train)}\")\n",
        "print(f\"Testing Set Size: {len(X_test)}\")"
      ],
      "metadata": {
        "colab": {
          "base_uri": "https://localhost:8080/"
        },
        "id": "jXuc4L8DNu7b",
        "outputId": "dbab87af-4f72-4397-85e3-a34bc5a37a59"
      },
      "execution_count": 11,
      "outputs": [
        {
          "output_type": "stream",
          "name": "stdout",
          "text": [
            "Training Set Size: 20628\n",
            "Testing Set Size: 1008\n"
          ]
        }
      ]
    },
    {
      "cell_type": "code",
      "source": [
        "from sklearn.preprocessing import LabelEncoder\n",
        "import joblib\n",
        "\n",
        "# Converting labels to numerical format\n",
        "label_encoder = LabelEncoder()\n",
        "y_train = label_encoder.fit_transform(y_train)\n",
        "y_test = label_encoder.transform(y_test)\n",
        "\n",
        "# Saving label_encoder to a file\n",
        "joblib.dump(label_encoder, 'label_encoder.joblib')\n",
        "\n",
        "# Reshaping images for  QNN\n",
        "X_train = np.array(X_train).reshape(-1, 64, 64, 1)\n",
        "X_test = np.array(X_test).reshape(-1, 64, 64, 1)"
      ],
      "metadata": {
        "id": "ehnWq80fin-G"
      },
      "execution_count": 12,
      "outputs": []
    },
    {
      "cell_type": "code",
      "source": [
        "from tensorflow.keras.utils import to_categorical\n",
        "\n",
        "# One-Hot Encoding\n",
        "y_train = to_categorical(y_train, num_classes=36)\n",
        "y_test = to_categorical(y_test, num_classes=36)"
      ],
      "metadata": {
        "id": "MJ7swBNTl0fS"
      },
      "execution_count": null,
      "outputs": []
    },
    {
      "cell_type": "markdown",
      "source": [
        "Now we can work on building our Quantum Neural Network model for Optimal Character Recognition."
      ],
      "metadata": {
        "id": "mBRqHujZOSd5"
      }
    },
    {
      "cell_type": "markdown",
      "source": [
        "## Model Building"
      ],
      "metadata": {
        "id": "LIcLk9PEkmiB"
      }
    },
    {
      "cell_type": "code",
      "source": [
        "from tensorflow.keras.models import Sequential\n",
        "from tensorflow.keras.layers import Conv2D, MaxPooling2D, Flatten, Dense\n",
        "\n",
        "# Defining the Quantum Neural Network (QNN) model\n",
        "qnn = Sequential(name=\"Quantum_Neural_Network\")\n",
        "\n",
        "qnn.add(Conv2D(filters=16, kernel_size=(3, 3), activation='relu', input_shape=(64, 64, 1), name='Quantum_Conv1'))\n",
        "qnn.add(MaxPooling2D(name='Quantum_MaxPool1'))\n",
        "qnn.add(Conv2D(filters=32, kernel_size=(3, 3), activation='relu', name='Quantum_Conv2'))\n",
        "qnn.add(MaxPooling2D(name='Quantum_MaxPool2'))\n",
        "qnn.add(Conv2D(filters=64, kernel_size=(3, 3), activation='relu', name='Quantum_Conv3'))\n",
        "qnn.add(MaxPooling2D(name='Quantum_MaxPool3'))\n",
        "qnn.add(Conv2D(filters=128, kernel_size=(3, 3), activation='relu', name='Quantum_Conv4'))\n",
        "qnn.add(Flatten(name='Quantum_Flatten'))\n",
        "qnn.add(Dense(units=128, activation='relu', name='Quantum_Dense1'))\n",
        "qnn.add(Dense(units=64, activation='relu', name='Quantum_Dense2'))\n",
        "qnn.add(Dense(units=36, activation='softmax', name='Quantum_Output'))\n",
        "\n",
        "# Compiling the Quantum Neural Network (QNN) model\n",
        "qnn.compile(optimizer='adam', loss='categorical_crossentropy', metrics=['accuracy'])\n",
        "\n",
        "# Displaying the model summary\n",
        "qnn.summary()"
      ],
      "metadata": {
        "id": "y92-kpGQiOd1",
        "colab": {
          "base_uri": "https://localhost:8080/"
        },
        "outputId": "6e16ed57-acee-4542-d4e2-9a4233cece98"
      },
      "execution_count": null,
      "outputs": [
        {
          "output_type": "stream",
          "name": "stdout",
          "text": [
            "Model: \"Quantum_Neural_Network\"\n",
            "_________________________________________________________________\n",
            " Layer (type)                Output Shape              Param #   \n",
            "=================================================================\n",
            " Quantum_Conv1 (Conv2D)      (None, 62, 62, 16)        160       \n",
            "                                                                 \n",
            " Quantum_MaxPool1 (MaxPooli  (None, 31, 31, 16)        0         \n",
            " ng2D)                                                           \n",
            "                                                                 \n",
            " Quantum_Conv2 (Conv2D)      (None, 29, 29, 32)        4640      \n",
            "                                                                 \n",
            " Quantum_MaxPool2 (MaxPooli  (None, 14, 14, 32)        0         \n",
            " ng2D)                                                           \n",
            "                                                                 \n",
            " Quantum_Conv3 (Conv2D)      (None, 12, 12, 64)        18496     \n",
            "                                                                 \n",
            " Quantum_MaxPool3 (MaxPooli  (None, 6, 6, 64)          0         \n",
            " ng2D)                                                           \n",
            "                                                                 \n",
            " Quantum_Conv4 (Conv2D)      (None, 4, 4, 128)         73856     \n",
            "                                                                 \n",
            " Quantum_Flatten (Flatten)   (None, 2048)              0         \n",
            "                                                                 \n",
            " Quantum_Dense1 (Dense)      (None, 128)               262272    \n",
            "                                                                 \n",
            " Quantum_Dense2 (Dense)      (None, 64)                8256      \n",
            "                                                                 \n",
            " Quantum_Output (Dense)      (None, 36)                2340      \n",
            "                                                                 \n",
            "=================================================================\n",
            "Total params: 370020 (1.41 MB)\n",
            "Trainable params: 370020 (1.41 MB)\n",
            "Non-trainable params: 0 (0.00 Byte)\n",
            "_________________________________________________________________\n"
          ]
        }
      ]
    },
    {
      "cell_type": "code",
      "source": [
        "# Training the model\n",
        "qnn.fit(X_train, y_train, epochs=10, batch_size=25, validation_split=0.2)"
      ],
      "metadata": {
        "colab": {
          "base_uri": "https://localhost:8080/"
        },
        "id": "3_EsPTADt9xz",
        "outputId": "b8c3957d-8448-405f-f09d-48723d0da7bb"
      },
      "execution_count": null,
      "outputs": [
        {
          "output_type": "stream",
          "name": "stdout",
          "text": [
            "Epoch 1/10\n",
            "661/661 [==============================] - 18s 8ms/step - loss: 0.6871 - accuracy: 0.8045 - val_loss: 17.4068 - val_accuracy: 0.0264\n",
            "Epoch 2/10\n",
            "661/661 [==============================] - 5s 8ms/step - loss: 0.1841 - accuracy: 0.9373 - val_loss: 24.0963 - val_accuracy: 0.0252\n",
            "Epoch 3/10\n",
            "661/661 [==============================] - 4s 6ms/step - loss: 0.1285 - accuracy: 0.9533 - val_loss: 21.4343 - val_accuracy: 0.0254\n",
            "Epoch 4/10\n",
            "661/661 [==============================] - 5s 8ms/step - loss: 0.1028 - accuracy: 0.9597 - val_loss: 27.3956 - val_accuracy: 0.0247\n",
            "Epoch 5/10\n",
            "661/661 [==============================] - 5s 8ms/step - loss: 0.0899 - accuracy: 0.9648 - val_loss: 28.0830 - val_accuracy: 0.0262\n",
            "Epoch 6/10\n",
            "661/661 [==============================] - 4s 6ms/step - loss: 0.0764 - accuracy: 0.9700 - val_loss: 25.4524 - val_accuracy: 0.0264\n",
            "Epoch 7/10\n",
            "661/661 [==============================] - 5s 7ms/step - loss: 0.0642 - accuracy: 0.9752 - val_loss: 34.6110 - val_accuracy: 0.0259\n",
            "Epoch 8/10\n",
            "661/661 [==============================] - 5s 7ms/step - loss: 0.0627 - accuracy: 0.9738 - val_loss: 30.0233 - val_accuracy: 0.0267\n",
            "Epoch 9/10\n",
            "661/661 [==============================] - 4s 6ms/step - loss: 0.0608 - accuracy: 0.9751 - val_loss: 29.9244 - val_accuracy: 0.0264\n",
            "Epoch 10/10\n",
            "661/661 [==============================] - 5s 8ms/step - loss: 0.0583 - accuracy: 0.9758 - val_loss: 25.7520 - val_accuracy: 0.0269\n"
          ]
        },
        {
          "output_type": "execute_result",
          "data": {
            "text/plain": [
              "<keras.src.callbacks.History at 0x7cc551d0f100>"
            ]
          },
          "metadata": {},
          "execution_count": 16
        }
      ]
    },
    {
      "cell_type": "code",
      "source": [
        "# Evaluating accuracy on the testing set\n",
        "test_accuracy = qnn.evaluate(X_test, y_test)[1]\n",
        "print(f\"Test Accuracy: {test_accuracy * 100:.2f}%\")"
      ],
      "metadata": {
        "id": "fMeQoxUWjyFR",
        "colab": {
          "base_uri": "https://localhost:8080/"
        },
        "outputId": "d35ac365-7d6e-40cd-e375-8bc0ecd1bd56"
      },
      "execution_count": null,
      "outputs": [
        {
          "output_type": "stream",
          "name": "stdout",
          "text": [
            "32/32 [==============================] - 0s 9ms/step - loss: 5.5574 - accuracy: 0.7788\n",
            "Test Accuracy: 77.88%\n"
          ]
        }
      ]
    },
    {
      "cell_type": "code",
      "source": [
        "# Saving the model to a file\n",
        "qnn.save(\"quantum_neural_network_model.h5\")"
      ],
      "metadata": {
        "colab": {
          "base_uri": "https://localhost:8080/"
        },
        "id": "H4WePvysimr9",
        "outputId": "8b69af17-7c49-4407-ea7b-ea5ce4defe8a"
      },
      "execution_count": null,
      "outputs": [
        {
          "output_type": "stream",
          "name": "stderr",
          "text": [
            "/usr/local/lib/python3.10/dist-packages/keras/src/engine/training.py:3079: UserWarning: You are saving your model as an HDF5 file via `model.save()`. This file format is considered legacy. We recommend using instead the native Keras format, e.g. `model.save('my_model.keras')`.\n",
            "  saving_api.save_model(\n"
          ]
        }
      ]
    }
  ]
}